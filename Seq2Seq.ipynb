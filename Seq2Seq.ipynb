{
  "nbformat": 4,
  "nbformat_minor": 0,
  "metadata": {
    "colab": {
      "provenance": [],
      "gpuType": "T4",
      "authorship_tag": "ABX9TyMYz6KBk+t+H32e+g4LCTu4",
      "include_colab_link": true
    },
    "kernelspec": {
      "name": "python3",
      "display_name": "Python 3"
    },
    "language_info": {
      "name": "python"
    },
    "accelerator": "GPU"
  },
  "cells": [
    {
      "cell_type": "markdown",
      "metadata": {
        "id": "view-in-github",
        "colab_type": "text"
      },
      "source": [
        "<a href=\"https://colab.research.google.com/github/SadiyaMayat/NLP/blob/main/Seq2Seq.ipynb\" target=\"_parent\"><img src=\"https://colab.research.google.com/assets/colab-badge.svg\" alt=\"Open In Colab\"/></a>"
      ]
    },
    {
      "cell_type": "code",
      "source": [
        "import string\n",
        "import numpy as np\n",
        "\n",
        "from keras.preprocessing.text import Tokenizer\n",
        "from keras.preprocessing.sequence import pad_sequences\n",
        "from keras.models import Model\n",
        "from keras.layers import LSTM, Input, TimeDistributed, Dense, Activation, RepeatVector, Embedding\n",
        "from keras.optimizers import Adam\n",
        "from keras.losses import sparse_categorical_crossentropy"
      ],
      "metadata": {
        "id": "dAtp77ThNTyz"
      },
      "execution_count": 1,
      "outputs": []
    },
    {
      "cell_type": "code",
      "execution_count": 3,
      "metadata": {
        "id": "ajeOrgHKNKrW"
      },
      "outputs": [],
      "source": [
        "# Path to translation file\n",
        "path_to_data = '/content/hin.txt'\n",
        "\n",
        "# Read file\n",
        "translation_file = open(path_to_data, \"r\", encoding='utf-8')\n",
        "raw_data = translation_file.read()\n",
        "translation_file.close()\n",
        "\n",
        "# Parse data\n",
        "raw_data = raw_data.split('\\n')\n",
        "pairs = [sentence.split('\\t') for sentence in raw_data]\n",
        "pairs = pairs[60:3061]"
      ]
    },
    {
      "cell_type": "code",
      "source": [
        "# Displaying first 5 pairs for verification\n",
        "print(pairs[:5])"
      ],
      "metadata": {
        "colab": {
          "base_uri": "https://localhost:8080/"
        },
        "id": "Sf0F3iajP7AI",
        "outputId": "8fcce295-5e1c-4461-9f5c-f6ca49855bc9"
      },
      "execution_count": 4,
      "outputs": [
        {
          "output_type": "stream",
          "name": "stdout",
          "text": [
            "[['Definitely!', 'निश्चित ही', 'CC-BY 2.0 (France) Attribution: tatoeba.org #30542 (CM) & #6178948 (fastrizwaan)'], [\"Don't move.\", 'हिलो मत।', 'CC-BY 2.0 (France) Attribution: tatoeba.org #433502 (CK) & #588484 (minshirui)'], ['Fire burns.', 'आग जलाती है।', 'CC-BY 2.0 (France) Attribution: tatoeba.org #23865 (CM) & #457112 (minshirui)'], ['Follow him.', 'उसका पीछा करो।', 'CC-BY 2.0 (France) Attribution: tatoeba.org #433754 (CK) & #588487 (minshirui)'], ['I can swim.', 'मुझे तैरना आता है।', 'CC-BY 2.0 (France) Attribution: tatoeba.org #256178 (CK) & #3216259 (anubhav93)']]\n"
          ]
        }
      ]
    },
    {
      "cell_type": "code",
      "source": [
        "def clean_sentence(sentence):\n",
        "    # Lower case the sentence\n",
        "    lower_case_sent = sentence.lower()\n",
        "    # Strip punctuation\n",
        "    string_punctuation = string.punctuation + \"।\"\n",
        "    clean_sentence = lower_case_sent.translate(str.maketrans('', '', string_punctuation))\n",
        "    return clean_sentence\n",
        "\n",
        "def tokenize(sentences):\n",
        "    # Create tokenizer\n",
        "    text_tokenizer = Tokenizer(filters='')\n",
        "    # Fit texts\n",
        "    text_tokenizer.fit_on_texts(sentences)\n",
        "    return text_tokenizer.texts_to_sequences(sentences), text_tokenizer\n",
        "\n",
        "# Clean sentences\n",
        "hindi_sentences = [clean_sentence(pair[0]) for pair in pairs]\n",
        "english_sentences = [clean_sentence(pair[1]) for pair in pairs]\n",
        "\n",
        "# Add start and end tokens to English sentences\n",
        "english_sentences = ['<start> ' + sentence + ' <end>' for sentence in english_sentences]\n"
      ],
      "metadata": {
        "id": "sbzfiLorNZ4p"
      },
      "execution_count": 5,
      "outputs": []
    },
    {
      "cell_type": "code",
      "source": [
        "# Tokenize words\n",
        "hin_text_tokenized, hin_text_tokenizer = tokenize(hindi_sentences)\n",
        "eng_text_tokenized, eng_text_tokenizer = tokenize(english_sentences)\n",
        "\n",
        "print('Maximum length Hindi sentence: {}'.format(len(max(hin_text_tokenized, key=len))))\n",
        "print('Maximum length English sentence: {}'.format(len(max(eng_text_tokenized, key=len))))\n",
        "\n",
        "# Check language length\n",
        "hindi_vocab = len(hin_text_tokenizer.word_index) + 1\n",
        "english_vocab = len(eng_text_tokenizer.word_index) + 1\n",
        "print(\"Hindi vocabulary is of {} unique words\".format(hindi_vocab))\n",
        "print(\"English vocabulary is of {} unique words\".format(english_vocab))\n",
        "\n",
        "max_hindi_len = int(len(max(hin_text_tokenized, key=len)))\n",
        "max_english_len = int(len(max(eng_text_tokenized, key=len)))\n",
        "\n",
        "hin_pad_sentence = pad_sequences(hin_text_tokenized, max_hindi_len, padding=\"post\")\n",
        "eng_pad_sentence = pad_sequences(eng_text_tokenized, max_english_len, padding=\"post\")"
      ],
      "metadata": {
        "colab": {
          "base_uri": "https://localhost:8080/"
        },
        "id": "7KB9XI1MNfmh",
        "outputId": "8737dbc7-9630-4712-ee27-44ee7a6b6848"
      },
      "execution_count": 6,
      "outputs": [
        {
          "output_type": "stream",
          "name": "stdout",
          "text": [
            "Maximum length Hindi sentence: 22\n",
            "Maximum length English sentence: 27\n",
            "Hindi vocabulary is of 2446 unique words\n",
            "English vocabulary is of 2947 unique words\n"
          ]
        }
      ]
    },
    {
      "cell_type": "code",
      "source": [
        "# Define the model\n",
        "latent_dim = 256\n",
        "embedding_dim = 256\n",
        "\n",
        "# Encoder\n",
        "encoder_inputs = Input(shape=(max_hindi_len,))\n",
        "enc_emb = Embedding(hindi_vocab, embedding_dim)(encoder_inputs)\n",
        "encoder_lstm = LSTM(latent_dim, return_state=True, dropout=0.2, recurrent_dropout=0.2)\n",
        "encoder_outputs, state_h, state_c = encoder_lstm(enc_emb)\n",
        "encoder_states = [state_h, state_c]\n",
        "\n",
        "# Decoder\n",
        "decoder_inputs = Input(shape=(max_english_len,))\n",
        "dec_emb_layer = Embedding(english_vocab, embedding_dim)\n",
        "dec_emb = dec_emb_layer(decoder_inputs)\n",
        "decoder_lstm = LSTM(latent_dim, return_sequences=True, return_state=True, dropout=0.2, recurrent_dropout=0.2)\n",
        "decoder_outputs, _, _ = decoder_lstm(dec_emb, initial_state=encoder_states)\n",
        "decoder_dense = TimeDistributed(Dense(english_vocab, activation='softmax'))\n",
        "output = decoder_dense(decoder_outputs)\n",
        "\n",
        "# Define the model\n",
        "model = Model([encoder_inputs, decoder_inputs], output)\n",
        "\n",
        "# Compile the model\n",
        "model.compile(optimizer=Adam(1e-3), loss=sparse_categorical_crossentropy, metrics=['accuracy'])\n",
        "model.summary()"
      ],
      "metadata": {
        "colab": {
          "base_uri": "https://localhost:8080/"
        },
        "id": "7W0jqd3aO_K-",
        "outputId": "3a082d34-c98e-4d1b-e292-ee5dc04380b8"
      },
      "execution_count": 7,
      "outputs": [
        {
          "output_type": "stream",
          "name": "stderr",
          "text": [
            "WARNING:tensorflow:Layer lstm will not use cuDNN kernels since it doesn't meet the criteria. It will use a generic GPU kernel as fallback when running on GPU.\n",
            "WARNING:tensorflow:Layer lstm_1 will not use cuDNN kernels since it doesn't meet the criteria. It will use a generic GPU kernel as fallback when running on GPU.\n"
          ]
        },
        {
          "output_type": "stream",
          "name": "stdout",
          "text": [
            "Model: \"model\"\n",
            "__________________________________________________________________________________________________\n",
            " Layer (type)                Output Shape                 Param #   Connected to                  \n",
            "==================================================================================================\n",
            " input_1 (InputLayer)        [(None, 22)]                 0         []                            \n",
            "                                                                                                  \n",
            " input_2 (InputLayer)        [(None, 27)]                 0         []                            \n",
            "                                                                                                  \n",
            " embedding (Embedding)       (None, 22, 256)              626176    ['input_1[0][0]']             \n",
            "                                                                                                  \n",
            " embedding_1 (Embedding)     (None, 27, 256)              754432    ['input_2[0][0]']             \n",
            "                                                                                                  \n",
            " lstm (LSTM)                 [(None, 256),                525312    ['embedding[0][0]']           \n",
            "                              (None, 256),                                                        \n",
            "                              (None, 256)]                                                        \n",
            "                                                                                                  \n",
            " lstm_1 (LSTM)               [(None, 27, 256),            525312    ['embedding_1[0][0]',         \n",
            "                              (None, 256),                           'lstm[0][1]',                \n",
            "                              (None, 256)]                           'lstm[0][2]']                \n",
            "                                                                                                  \n",
            " time_distributed (TimeDist  (None, 27, 2947)             757379    ['lstm_1[0][0]']              \n",
            " ributed)                                                                                         \n",
            "                                                                                                  \n",
            "==================================================================================================\n",
            "Total params: 3188611 (12.16 MB)\n",
            "Trainable params: 3188611 (12.16 MB)\n",
            "Non-trainable params: 0 (0.00 Byte)\n",
            "__________________________________________________________________________________________________\n"
          ]
        }
      ]
    },
    {
      "cell_type": "code",
      "source": [
        "# Preparing the data for teacher forcing\n",
        "decoder_input_data = np.zeros_like(eng_pad_sentence)\n",
        "decoder_input_data[:, 1:] = eng_pad_sentence[:, :-1]\n",
        "decoder_input_data[:, 0] = eng_text_tokenizer.word_index['<start>']\n",
        "\n",
        "# Model training\n",
        "model_results = model.fit(\n",
        "    [hin_pad_sentence, decoder_input_data],\n",
        "    np.expand_dims(eng_pad_sentence, -1),\n",
        "    batch_size=64,\n",
        "    epochs=100,\n",
        "    validation_split=0.2\n",
        ")"
      ],
      "metadata": {
        "colab": {
          "base_uri": "https://localhost:8080/"
        },
        "id": "LBEuJTzyPaDk",
        "outputId": "073c32ff-0d84-45af-ffde-142f04f8040a"
      },
      "execution_count": 8,
      "outputs": [
        {
          "output_type": "stream",
          "name": "stdout",
          "text": [
            "Epoch 1/100\n",
            "38/38 [==============================] - 21s 279ms/step - loss: 3.3817 - accuracy: 0.7155 - val_loss: 3.0605 - val_accuracy: 0.5915\n",
            "Epoch 2/100\n",
            "38/38 [==============================] - 8s 223ms/step - loss: 1.6943 - accuracy: 0.7358 - val_loss: 3.0162 - val_accuracy: 0.5843\n",
            "Epoch 3/100\n",
            "38/38 [==============================] - 6s 164ms/step - loss: 1.5827 - accuracy: 0.7456 - val_loss: 2.7879 - val_accuracy: 0.5954\n",
            "Epoch 4/100\n",
            "38/38 [==============================] - 7s 190ms/step - loss: 1.4580 - accuracy: 0.7671 - val_loss: 2.6287 - val_accuracy: 0.6148\n",
            "Epoch 5/100\n",
            "38/38 [==============================] - 6s 152ms/step - loss: 1.4008 - accuracy: 0.7763 - val_loss: 2.5831 - val_accuracy: 0.6285\n",
            "Epoch 6/100\n",
            "38/38 [==============================] - 7s 175ms/step - loss: 1.3676 - accuracy: 0.7793 - val_loss: 2.5846 - val_accuracy: 0.6310\n",
            "Epoch 7/100\n",
            "38/38 [==============================] - 6s 153ms/step - loss: 1.3437 - accuracy: 0.7810 - val_loss: 2.5464 - val_accuracy: 0.6336\n",
            "Epoch 8/100\n",
            "38/38 [==============================] - 7s 176ms/step - loss: 1.3220 - accuracy: 0.7832 - val_loss: 2.5440 - val_accuracy: 0.6352\n",
            "Epoch 9/100\n",
            "38/38 [==============================] - 5s 145ms/step - loss: 1.3009 - accuracy: 0.7860 - val_loss: 2.5342 - val_accuracy: 0.6369\n",
            "Epoch 10/100\n",
            "38/38 [==============================] - 7s 178ms/step - loss: 1.2799 - accuracy: 0.7890 - val_loss: 2.5217 - val_accuracy: 0.6392\n",
            "Epoch 11/100\n",
            "38/38 [==============================] - 6s 145ms/step - loss: 1.2605 - accuracy: 0.7908 - val_loss: 2.5348 - val_accuracy: 0.6400\n",
            "Epoch 12/100\n",
            "38/38 [==============================] - 7s 175ms/step - loss: 1.2412 - accuracy: 0.7916 - val_loss: 2.5334 - val_accuracy: 0.6406\n",
            "Epoch 13/100\n",
            "38/38 [==============================] - 6s 146ms/step - loss: 1.2230 - accuracy: 0.7934 - val_loss: 2.5108 - val_accuracy: 0.6426\n",
            "Epoch 14/100\n",
            "38/38 [==============================] - 7s 177ms/step - loss: 1.2059 - accuracy: 0.7937 - val_loss: 2.5274 - val_accuracy: 0.6441\n",
            "Epoch 15/100\n",
            "38/38 [==============================] - 6s 146ms/step - loss: 1.1882 - accuracy: 0.7961 - val_loss: 2.5193 - val_accuracy: 0.6445\n",
            "Epoch 16/100\n",
            "38/38 [==============================] - 7s 180ms/step - loss: 1.1707 - accuracy: 0.7973 - val_loss: 2.5105 - val_accuracy: 0.6465\n",
            "Epoch 17/100\n",
            "38/38 [==============================] - 5s 143ms/step - loss: 1.1522 - accuracy: 0.7988 - val_loss: 2.5115 - val_accuracy: 0.6478\n",
            "Epoch 18/100\n",
            "38/38 [==============================] - 7s 174ms/step - loss: 1.1332 - accuracy: 0.8019 - val_loss: 2.5096 - val_accuracy: 0.6490\n",
            "Epoch 19/100\n",
            "38/38 [==============================] - 5s 143ms/step - loss: 1.1139 - accuracy: 0.8033 - val_loss: 2.5103 - val_accuracy: 0.6506\n",
            "Epoch 20/100\n",
            "38/38 [==============================] - 7s 174ms/step - loss: 1.0947 - accuracy: 0.8053 - val_loss: 2.5029 - val_accuracy: 0.6510\n",
            "Epoch 21/100\n",
            "38/38 [==============================] - 5s 144ms/step - loss: 1.0757 - accuracy: 0.8076 - val_loss: 2.5010 - val_accuracy: 0.6524\n",
            "Epoch 22/100\n",
            "38/38 [==============================] - 7s 172ms/step - loss: 1.0536 - accuracy: 0.8102 - val_loss: 2.4912 - val_accuracy: 0.6542\n",
            "Epoch 23/100\n",
            "38/38 [==============================] - 5s 142ms/step - loss: 1.0324 - accuracy: 0.8130 - val_loss: 2.5076 - val_accuracy: 0.6552\n",
            "Epoch 24/100\n",
            "38/38 [==============================] - 7s 172ms/step - loss: 1.0098 - accuracy: 0.8154 - val_loss: 2.4944 - val_accuracy: 0.6566\n",
            "Epoch 25/100\n",
            "38/38 [==============================] - 6s 148ms/step - loss: 0.9867 - accuracy: 0.8185 - val_loss: 2.5143 - val_accuracy: 0.6576\n",
            "Epoch 26/100\n",
            "38/38 [==============================] - 7s 175ms/step - loss: 0.9641 - accuracy: 0.8206 - val_loss: 2.5242 - val_accuracy: 0.6564\n",
            "Epoch 27/100\n",
            "38/38 [==============================] - 5s 140ms/step - loss: 0.9432 - accuracy: 0.8221 - val_loss: 2.5136 - val_accuracy: 0.6571\n",
            "Epoch 28/100\n",
            "38/38 [==============================] - 6s 151ms/step - loss: 0.9211 - accuracy: 0.8248 - val_loss: 2.5082 - val_accuracy: 0.6595\n",
            "Epoch 29/100\n",
            "38/38 [==============================] - 6s 156ms/step - loss: 0.9004 - accuracy: 0.8279 - val_loss: 2.5239 - val_accuracy: 0.6589\n",
            "Epoch 30/100\n",
            "38/38 [==============================] - 6s 146ms/step - loss: 0.8799 - accuracy: 0.8299 - val_loss: 2.5359 - val_accuracy: 0.6599\n",
            "Epoch 31/100\n",
            "38/38 [==============================] - 6s 169ms/step - loss: 0.8602 - accuracy: 0.8318 - val_loss: 2.5448 - val_accuracy: 0.6603\n",
            "Epoch 32/100\n",
            "38/38 [==============================] - 6s 149ms/step - loss: 0.8395 - accuracy: 0.8346 - val_loss: 2.5647 - val_accuracy: 0.6595\n",
            "Epoch 33/100\n",
            "38/38 [==============================] - 7s 174ms/step - loss: 0.8202 - accuracy: 0.8379 - val_loss: 2.5619 - val_accuracy: 0.6624\n",
            "Epoch 34/100\n",
            "38/38 [==============================] - 6s 148ms/step - loss: 0.8016 - accuracy: 0.8400 - val_loss: 2.5658 - val_accuracy: 0.6623\n",
            "Epoch 35/100\n",
            "38/38 [==============================] - 6s 170ms/step - loss: 0.7816 - accuracy: 0.8429 - val_loss: 2.5896 - val_accuracy: 0.6619\n",
            "Epoch 36/100\n",
            "38/38 [==============================] - 6s 147ms/step - loss: 0.7632 - accuracy: 0.8455 - val_loss: 2.6014 - val_accuracy: 0.6614\n",
            "Epoch 37/100\n",
            "38/38 [==============================] - 7s 172ms/step - loss: 0.7450 - accuracy: 0.8489 - val_loss: 2.6079 - val_accuracy: 0.6638\n",
            "Epoch 38/100\n",
            "38/38 [==============================] - 6s 146ms/step - loss: 0.7270 - accuracy: 0.8515 - val_loss: 2.6178 - val_accuracy: 0.6639\n",
            "Epoch 39/100\n",
            "38/38 [==============================] - 6s 170ms/step - loss: 0.7093 - accuracy: 0.8552 - val_loss: 2.6308 - val_accuracy: 0.6643\n",
            "Epoch 40/100\n",
            "38/38 [==============================] - 5s 144ms/step - loss: 0.6929 - accuracy: 0.8581 - val_loss: 2.6369 - val_accuracy: 0.6641\n",
            "Epoch 41/100\n",
            "38/38 [==============================] - 7s 176ms/step - loss: 0.6772 - accuracy: 0.8611 - val_loss: 2.6389 - val_accuracy: 0.6641\n",
            "Epoch 42/100\n",
            "38/38 [==============================] - 6s 145ms/step - loss: 0.6601 - accuracy: 0.8645 - val_loss: 2.6588 - val_accuracy: 0.6639\n",
            "Epoch 43/100\n",
            "38/38 [==============================] - 7s 176ms/step - loss: 0.6438 - accuracy: 0.8674 - val_loss: 2.6695 - val_accuracy: 0.6661\n",
            "Epoch 44/100\n",
            "38/38 [==============================] - 6s 146ms/step - loss: 0.6268 - accuracy: 0.8706 - val_loss: 2.6639 - val_accuracy: 0.6657\n",
            "Epoch 45/100\n",
            "38/38 [==============================] - 7s 174ms/step - loss: 0.6112 - accuracy: 0.8729 - val_loss: 2.6811 - val_accuracy: 0.6648\n",
            "Epoch 46/100\n",
            "38/38 [==============================] - 6s 150ms/step - loss: 0.5961 - accuracy: 0.8761 - val_loss: 2.6745 - val_accuracy: 0.6673\n",
            "Epoch 47/100\n",
            "38/38 [==============================] - 6s 169ms/step - loss: 0.5813 - accuracy: 0.8796 - val_loss: 2.6932 - val_accuracy: 0.6672\n",
            "Epoch 48/100\n",
            "38/38 [==============================] - 6s 146ms/step - loss: 0.5682 - accuracy: 0.8820 - val_loss: 2.7060 - val_accuracy: 0.6657\n",
            "Epoch 49/100\n",
            "38/38 [==============================] - 7s 173ms/step - loss: 0.5538 - accuracy: 0.8849 - val_loss: 2.7158 - val_accuracy: 0.6672\n",
            "Epoch 50/100\n",
            "38/38 [==============================] - 6s 148ms/step - loss: 0.5405 - accuracy: 0.8879 - val_loss: 2.7151 - val_accuracy: 0.6691\n",
            "Epoch 51/100\n",
            "38/38 [==============================] - 6s 170ms/step - loss: 0.5272 - accuracy: 0.8906 - val_loss: 2.7279 - val_accuracy: 0.6673\n",
            "Epoch 52/100\n",
            "38/38 [==============================] - 5s 143ms/step - loss: 0.5154 - accuracy: 0.8930 - val_loss: 2.7358 - val_accuracy: 0.6688\n",
            "Epoch 53/100\n",
            "38/38 [==============================] - 6s 164ms/step - loss: 0.5029 - accuracy: 0.8953 - val_loss: 2.7399 - val_accuracy: 0.6680\n",
            "Epoch 54/100\n",
            "38/38 [==============================] - 6s 146ms/step - loss: 0.4902 - accuracy: 0.8991 - val_loss: 2.7545 - val_accuracy: 0.6693\n",
            "Epoch 55/100\n",
            "38/38 [==============================] - 6s 155ms/step - loss: 0.4780 - accuracy: 0.9012 - val_loss: 2.7641 - val_accuracy: 0.6697\n",
            "Epoch 56/100\n",
            "38/38 [==============================] - 6s 151ms/step - loss: 0.4667 - accuracy: 0.9037 - val_loss: 2.7594 - val_accuracy: 0.6699\n",
            "Epoch 57/100\n",
            "38/38 [==============================] - 5s 142ms/step - loss: 0.4563 - accuracy: 0.9059 - val_loss: 2.7667 - val_accuracy: 0.6693\n",
            "Epoch 58/100\n",
            "38/38 [==============================] - 6s 164ms/step - loss: 0.4449 - accuracy: 0.9077 - val_loss: 2.7811 - val_accuracy: 0.6686\n",
            "Epoch 59/100\n",
            "38/38 [==============================] - 5s 143ms/step - loss: 0.4344 - accuracy: 0.9102 - val_loss: 2.7993 - val_accuracy: 0.6685\n",
            "Epoch 60/100\n",
            "38/38 [==============================] - 6s 171ms/step - loss: 0.4256 - accuracy: 0.9127 - val_loss: 2.8052 - val_accuracy: 0.6702\n",
            "Epoch 61/100\n",
            "38/38 [==============================] - 5s 142ms/step - loss: 0.4153 - accuracy: 0.9149 - val_loss: 2.8051 - val_accuracy: 0.6693\n",
            "Epoch 62/100\n",
            "38/38 [==============================] - 6s 167ms/step - loss: 0.4057 - accuracy: 0.9170 - val_loss: 2.8168 - val_accuracy: 0.6701\n",
            "Epoch 63/100\n",
            "38/38 [==============================] - 5s 141ms/step - loss: 0.3969 - accuracy: 0.9177 - val_loss: 2.8304 - val_accuracy: 0.6690\n",
            "Epoch 64/100\n",
            "38/38 [==============================] - 6s 172ms/step - loss: 0.3878 - accuracy: 0.9199 - val_loss: 2.8356 - val_accuracy: 0.6703\n",
            "Epoch 65/100\n",
            "38/38 [==============================] - 5s 143ms/step - loss: 0.3790 - accuracy: 0.9216 - val_loss: 2.8370 - val_accuracy: 0.6688\n",
            "Epoch 66/100\n",
            "38/38 [==============================] - 7s 173ms/step - loss: 0.3711 - accuracy: 0.9229 - val_loss: 2.8492 - val_accuracy: 0.6694\n",
            "Epoch 67/100\n",
            "38/38 [==============================] - 5s 143ms/step - loss: 0.3623 - accuracy: 0.9245 - val_loss: 2.8458 - val_accuracy: 0.6699\n",
            "Epoch 68/100\n",
            "38/38 [==============================] - 6s 170ms/step - loss: 0.3554 - accuracy: 0.9254 - val_loss: 2.8577 - val_accuracy: 0.6708\n",
            "Epoch 69/100\n",
            "38/38 [==============================] - 5s 142ms/step - loss: 0.3469 - accuracy: 0.9274 - val_loss: 2.8622 - val_accuracy: 0.6698\n",
            "Epoch 70/100\n",
            "38/38 [==============================] - 6s 169ms/step - loss: 0.3391 - accuracy: 0.9287 - val_loss: 2.8850 - val_accuracy: 0.6697\n",
            "Epoch 71/100\n",
            "38/38 [==============================] - 6s 146ms/step - loss: 0.3328 - accuracy: 0.9302 - val_loss: 2.8871 - val_accuracy: 0.6693\n",
            "Epoch 72/100\n",
            "38/38 [==============================] - 6s 163ms/step - loss: 0.3256 - accuracy: 0.9317 - val_loss: 2.8927 - val_accuracy: 0.6693\n",
            "Epoch 73/100\n",
            "38/38 [==============================] - 6s 145ms/step - loss: 0.3185 - accuracy: 0.9334 - val_loss: 2.9041 - val_accuracy: 0.6699\n",
            "Epoch 74/100\n",
            "38/38 [==============================] - 6s 151ms/step - loss: 0.3106 - accuracy: 0.9342 - val_loss: 2.9101 - val_accuracy: 0.6701\n",
            "Epoch 75/100\n",
            "38/38 [==============================] - 6s 154ms/step - loss: 0.3036 - accuracy: 0.9361 - val_loss: 2.9090 - val_accuracy: 0.6709\n",
            "Epoch 76/100\n",
            "38/38 [==============================] - 6s 146ms/step - loss: 0.2980 - accuracy: 0.9373 - val_loss: 2.9100 - val_accuracy: 0.6702\n",
            "Epoch 77/100\n",
            "38/38 [==============================] - 6s 167ms/step - loss: 0.2912 - accuracy: 0.9392 - val_loss: 2.9337 - val_accuracy: 0.6703\n",
            "Epoch 78/100\n",
            "38/38 [==============================] - 5s 142ms/step - loss: 0.2853 - accuracy: 0.9395 - val_loss: 2.9361 - val_accuracy: 0.6696\n",
            "Epoch 79/100\n",
            "38/38 [==============================] - 7s 178ms/step - loss: 0.2789 - accuracy: 0.9415 - val_loss: 2.9487 - val_accuracy: 0.6705\n",
            "Epoch 80/100\n",
            "38/38 [==============================] - 5s 142ms/step - loss: 0.2725 - accuracy: 0.9415 - val_loss: 2.9407 - val_accuracy: 0.6717\n",
            "Epoch 81/100\n",
            "38/38 [==============================] - 6s 168ms/step - loss: 0.2672 - accuracy: 0.9433 - val_loss: 2.9634 - val_accuracy: 0.6705\n",
            "Epoch 82/100\n",
            "38/38 [==============================] - 5s 143ms/step - loss: 0.2609 - accuracy: 0.9445 - val_loss: 2.9655 - val_accuracy: 0.6705\n",
            "Epoch 83/100\n",
            "38/38 [==============================] - 7s 173ms/step - loss: 0.2558 - accuracy: 0.9462 - val_loss: 2.9705 - val_accuracy: 0.6707\n",
            "Epoch 84/100\n",
            "38/38 [==============================] - 5s 142ms/step - loss: 0.2499 - accuracy: 0.9466 - val_loss: 2.9727 - val_accuracy: 0.6718\n",
            "Epoch 85/100\n",
            "38/38 [==============================] - 6s 171ms/step - loss: 0.2448 - accuracy: 0.9481 - val_loss: 2.9870 - val_accuracy: 0.6715\n",
            "Epoch 86/100\n",
            "38/38 [==============================] - 6s 147ms/step - loss: 0.2409 - accuracy: 0.9483 - val_loss: 2.9968 - val_accuracy: 0.6709\n",
            "Epoch 87/100\n",
            "38/38 [==============================] - 7s 173ms/step - loss: 0.2357 - accuracy: 0.9491 - val_loss: 2.9991 - val_accuracy: 0.6706\n",
            "Epoch 88/100\n",
            "38/38 [==============================] - 5s 143ms/step - loss: 0.2302 - accuracy: 0.9505 - val_loss: 3.0011 - val_accuracy: 0.6707\n",
            "Epoch 89/100\n",
            "38/38 [==============================] - 6s 170ms/step - loss: 0.2254 - accuracy: 0.9515 - val_loss: 3.0143 - val_accuracy: 0.6714\n",
            "Epoch 90/100\n",
            "38/38 [==============================] - 5s 142ms/step - loss: 0.2190 - accuracy: 0.9529 - val_loss: 3.0197 - val_accuracy: 0.6717\n",
            "Epoch 91/100\n",
            "38/38 [==============================] - 7s 175ms/step - loss: 0.2153 - accuracy: 0.9536 - val_loss: 3.0285 - val_accuracy: 0.6712\n",
            "Epoch 92/100\n",
            "38/38 [==============================] - 6s 148ms/step - loss: 0.2106 - accuracy: 0.9543 - val_loss: 3.0214 - val_accuracy: 0.6699\n",
            "Epoch 93/100\n",
            "38/38 [==============================] - 6s 166ms/step - loss: 0.2055 - accuracy: 0.9560 - val_loss: 3.0402 - val_accuracy: 0.6715\n",
            "Epoch 94/100\n",
            "38/38 [==============================] - 6s 148ms/step - loss: 0.2003 - accuracy: 0.9568 - val_loss: 3.0511 - val_accuracy: 0.6714\n",
            "Epoch 95/100\n",
            "38/38 [==============================] - 6s 162ms/step - loss: 0.1964 - accuracy: 0.9575 - val_loss: 3.0432 - val_accuracy: 0.6715\n",
            "Epoch 96/100\n",
            "38/38 [==============================] - 6s 158ms/step - loss: 0.1914 - accuracy: 0.9585 - val_loss: 3.0631 - val_accuracy: 0.6708\n",
            "Epoch 97/100\n",
            "38/38 [==============================] - 6s 154ms/step - loss: 0.1867 - accuracy: 0.9601 - val_loss: 3.0730 - val_accuracy: 0.6711\n",
            "Epoch 98/100\n",
            "38/38 [==============================] - 6s 159ms/step - loss: 0.1819 - accuracy: 0.9611 - val_loss: 3.0798 - val_accuracy: 0.6709\n",
            "Epoch 99/100\n",
            "38/38 [==============================] - 5s 143ms/step - loss: 0.1783 - accuracy: 0.9618 - val_loss: 3.0735 - val_accuracy: 0.6719\n",
            "Epoch 100/100\n",
            "38/38 [==============================] - 6s 169ms/step - loss: 0.1741 - accuracy: 0.9620 - val_loss: 3.0849 - val_accuracy: 0.6720\n"
          ]
        }
      ]
    },
    {
      "cell_type": "code",
      "source": [
        "def logits_to_sentence(logits, tokenizer):\n",
        "    index_to_words = {idx: word for word, idx in tokenizer.word_index.items()}\n",
        "    index_to_words[0] = '<empty>'\n",
        "    return ' '.join([index_to_words[prediction] for prediction in np.argmax(logits, 1) if prediction != 0])\n",
        "\n",
        "index = 14\n",
        "print(\"The English sentence is: {}\".format(english_sentences[index]))\n",
        "print(\"The Hindi sentence is: {}\".format(hindi_sentences[index]))\n",
        "print('The predicted sentence is :')\n",
        "prediction = model.predict([hin_pad_sentence[index:index+1], decoder_input_data[index:index+1]])\n",
        "print(logits_to_sentence(prediction[0], eng_text_tokenizer))\n"
      ],
      "metadata": {
        "colab": {
          "base_uri": "https://localhost:8080/"
        },
        "id": "8FgjjSFEPgIE",
        "outputId": "6d2bd3e1-d31e-41a2-cab3-b4512e3445c6"
      },
      "execution_count": 9,
      "outputs": [
        {
          "output_type": "stream",
          "name": "stdout",
          "text": [
            "The English sentence is: <start> उसे अंदर भेजो <end>\n",
            "The Hindi sentence is: let him in\n",
            "The predicted sentence is :\n",
            "1/1 [==============================] - 0s 431ms/step\n",
            "<start> उसे अंदर भेजो <end>\n"
          ]
        }
      ]
    }
  ]
}